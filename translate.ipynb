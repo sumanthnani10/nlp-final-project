{
  "cells": [
    {
      "cell_type": "code",
      "execution_count": 8,
      "metadata": {
        "colab": {
          "base_uri": "https://localhost:8080/"
        },
        "id": "K2ri1vvWVLyo",
        "outputId": "234a19b1-b2f7-4f58-afe4-888846e1a21a"
      },
      "outputs": [
        {
          "name": "stdout",
          "output_type": "stream",
          "text": [
            "Requirement already satisfied: googletrans in c:\\users\\t anthony mary\\anaconda3\\lib\\site-packages (4.0.0rc1)\n",
            "Requirement already satisfied: httpx==0.13.3 in c:\\users\\t anthony mary\\anaconda3\\lib\\site-packages (from googletrans) (0.13.3)\n",
            "Requirement already satisfied: hstspreload in c:\\users\\t anthony mary\\anaconda3\\lib\\site-packages (from httpx==0.13.3->googletrans) (2023.1.1)\n",
            "Requirement already satisfied: chardet==3.* in c:\\users\\t anthony mary\\anaconda3\\lib\\site-packages (from httpx==0.13.3->googletrans) (3.0.4)\n",
            "Requirement already satisfied: rfc3986<2,>=1.3 in c:\\users\\t anthony mary\\anaconda3\\lib\\site-packages (from httpx==0.13.3->googletrans) (1.5.0)\n",
            "Requirement already satisfied: httpcore==0.9.* in c:\\users\\t anthony mary\\anaconda3\\lib\\site-packages (from httpx==0.13.3->googletrans) (0.9.1)\n",
            "Requirement already satisfied: idna==2.* in c:\\users\\t anthony mary\\anaconda3\\lib\\site-packages (from httpx==0.13.3->googletrans) (2.10)\n",
            "Requirement already satisfied: sniffio in c:\\users\\t anthony mary\\anaconda3\\lib\\site-packages (from httpx==0.13.3->googletrans) (1.2.0)\n",
            "Requirement already satisfied: certifi in c:\\users\\t anthony mary\\anaconda3\\lib\\site-packages (from httpx==0.13.3->googletrans) (2021.10.8)\n",
            "Requirement already satisfied: h11<0.10,>=0.8 in c:\\users\\t anthony mary\\anaconda3\\lib\\site-packages (from httpcore==0.9.*->httpx==0.13.3->googletrans) (0.9.0)\n",
            "Requirement already satisfied: h2==3.* in c:\\users\\t anthony mary\\anaconda3\\lib\\site-packages (from httpcore==0.9.*->httpx==0.13.3->googletrans) (3.2.0)\n",
            "Requirement already satisfied: hpack<4,>=3.0 in c:\\users\\t anthony mary\\anaconda3\\lib\\site-packages (from h2==3.*->httpcore==0.9.*->httpx==0.13.3->googletrans) (3.0.0)\n",
            "Requirement already satisfied: hyperframe<6,>=5.2.0 in c:\\users\\t anthony mary\\anaconda3\\lib\\site-packages (from h2==3.*->httpcore==0.9.*->httpx==0.13.3->googletrans) (5.2.0)\n",
            "Requirement already satisfied: pandas in c:\\users\\t anthony mary\\appdata\\local\\programs\\python\\python310\\lib\\site-packages (2.1.3)\n",
            "Requirement already satisfied: numpy<2,>=1.22.4 in c:\\users\\t anthony mary\\appdata\\local\\programs\\python\\python310\\lib\\site-packages (from pandas) (1.26.2)\n",
            "Requirement already satisfied: tzdata>=2022.1 in c:\\users\\t anthony mary\\appdata\\local\\programs\\python\\python310\\lib\\site-packages (from pandas) (2023.3)\n",
            "Requirement already satisfied: pytz>=2020.1 in c:\\users\\t anthony mary\\appdata\\local\\programs\\python\\python310\\lib\\site-packages (from pandas) (2023.3.post1)\n",
            "Requirement already satisfied: python-dateutil>=2.8.2 in c:\\users\\t anthony mary\\appdata\\roaming\\python\\python310\\site-packages (from pandas) (2.8.2)\n",
            "Requirement already satisfied: six>=1.5 in c:\\users\\t anthony mary\\appdata\\roaming\\python\\python310\\site-packages (from python-dateutil>=2.8.2->pandas) (1.16.0)\n",
            "Note: you may need to restart the kernel to use updated packages.\n"
          ]
        },
        {
          "name": "stderr",
          "output_type": "stream",
          "text": [
            "\n",
            "[notice] A new release of pip available: 22.2.1 -> 23.3.1\n",
            "[notice] To update, run: python.exe -m pip install --upgrade pip\n"
          ]
        },
        {
          "name": "stdout",
          "output_type": "stream",
          "text": [
            "Requirement already satisfied: numpy in c:\\users\\t anthony mary\\appdata\\local\\programs\\python\\python310\\lib\\site-packages (1.26.2)Note: you may need to restart the kernel to use updated packages.\n",
            "\n"
          ]
        },
        {
          "name": "stderr",
          "output_type": "stream",
          "text": [
            "\n",
            "[notice] A new release of pip available: 22.2.1 -> 23.3.1\n",
            "[notice] To update, run: python.exe -m pip install --upgrade pip\n"
          ]
        }
      ],
      "source": [
        "!pip install googletrans\n",
        "%pip install pandas\n",
        "%pip install numpy"
      ]
    },
    {
      "cell_type": "code",
      "execution_count": 26,
      "metadata": {},
      "outputs": [],
      "source": [
        "import pandas as pd\n",
        "import numpy as np\n",
        "from googletrans import Translator\n",
        "\n",
        "# Read the CSV file\n",
        "df = pd.read_csv('./nlpositionality_toxicity_processed.csv', sep=\",\")\n"
      ]
    },
    {
      "cell_type": "code",
      "execution_count": 27,
      "metadata": {},
      "outputs": [
        {
          "data": {
            "text/html": [
              "<div>\n",
              "<style scoped>\n",
              "    .dataframe tbody tr th:only-of-type {\n",
              "        vertical-align: middle;\n",
              "    }\n",
              "\n",
              "    .dataframe tbody tr th {\n",
              "        vertical-align: top;\n",
              "    }\n",
              "\n",
              "    .dataframe thead th {\n",
              "        text-align: right;\n",
              "    }\n",
              "</style>\n",
              "<table border=\"1\" class=\"dataframe\">\n",
              "  <thead>\n",
              "    <tr style=\"text-align: right;\">\n",
              "      <th></th>\n",
              "      <th>action</th>\n",
              "      <th>session_id</th>\n",
              "      <th>litw</th>\n",
              "      <th>dynahate</th>\n",
              "      <th>perspective</th>\n",
              "      <th>rewire</th>\n",
              "      <th>hateroberta</th>\n",
              "      <th>gpt4</th>\n",
              "      <th>age</th>\n",
              "      <th>gender</th>\n",
              "      <th>ethnicity</th>\n",
              "      <th>religion</th>\n",
              "      <th>education</th>\n",
              "      <th>country_longest</th>\n",
              "      <th>country_residence</th>\n",
              "      <th>native_language</th>\n",
              "    </tr>\n",
              "  </thead>\n",
              "  <tbody>\n",
              "    <tr>\n",
              "      <th>7635</th>\n",
              "      <td>people in wheelchairs dont deserve our love or...</td>\n",
              "      <td>772.0</td>\n",
              "      <td>1.0</td>\n",
              "      <td>1.0</td>\n",
              "      <td>0.452437</td>\n",
              "      <td>0.959988</td>\n",
              "      <td>0.989717</td>\n",
              "      <td>1.0</td>\n",
              "      <td>50-60</td>\n",
              "      <td>woman</td>\n",
              "      <td>NaN</td>\n",
              "      <td>NaN</td>\n",
              "      <td>graduate school</td>\n",
              "      <td>Protestant-Europe</td>\n",
              "      <td>Protestant-Europe</td>\n",
              "      <td>not english</td>\n",
              "    </tr>\n",
              "  </tbody>\n",
              "</table>\n",
              "</div>"
            ],
            "text/plain": [
              "                                                 action  session_id  litw  \\\n",
              "7635  people in wheelchairs dont deserve our love or...       772.0   1.0   \n",
              "\n",
              "      dynahate  perspective    rewire  hateroberta  gpt4    age gender  \\\n",
              "7635       1.0     0.452437  0.959988     0.989717   1.0  50-60  woman   \n",
              "\n",
              "     ethnicity religion        education    country_longest  \\\n",
              "7635       NaN      NaN  graduate school  Protestant-Europe   \n",
              "\n",
              "      country_residence native_language  \n",
              "7635  Protestant-Europe     not english  "
            ]
          },
          "execution_count": 27,
          "metadata": {},
          "output_type": "execute_result"
        }
      ],
      "source": [
        "df1 = df.drop_duplicates()\n",
        "df1.sample()\n"
      ]
    },
    {
      "cell_type": "code",
      "execution_count": null,
      "metadata": {},
      "outputs": [],
      "source": [
        "# Create a Translator object\n",
        "translator = Translator()\n",
        "\n",
        "# Define target languages and their codes\n",
        "target_languages = [\"mn\", \"hi\", \"te\", \"ne\", \"be\", \"el\", \"de\", \"sw\"]\n",
        "target_language_codes = [\"mn\", \"hi\", \"te\", \"ne\", \"be\", \"el\", \"de\", \"sw\"]\n",
        "\n",
        "# Create new columns for each translated text\n",
        "for lang_code in target_language_codes:\n",
        "    df1[f\"translated_action_{lang_code}\"] = df1['action'].apply(lambda text: translator.translate(text, dest=lang_code).text)\n",
        "\n",
        "# Print the updated DataFrame\n",
        "print(df1)\n",
        "df1.to_csv(\"./augmented/augmented_nlpositionality_toxicity_processed.csv\")"
      ]
    }
  ],
  "metadata": {
    "colab": {
      "provenance": []
    },
    "kernelspec": {
      "display_name": "Python 3",
      "name": "python3"
    },
    "language_info": {
      "codemirror_mode": {
        "name": "ipython",
        "version": 3
      },
      "file_extension": ".py",
      "mimetype": "text/x-python",
      "name": "python",
      "nbconvert_exporter": "python",
      "pygments_lexer": "ipython3",
      "version": "3.10.6"
    }
  },
  "nbformat": 4,
  "nbformat_minor": 0
}
